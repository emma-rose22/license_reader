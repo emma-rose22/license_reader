{
 "cells": [
  {
   "cell_type": "markdown",
   "metadata": {},
   "source": [
    "## Recognition using OpenCV\n",
    "\n",
    "These are the basic steps for getting plate numbers:\n",
    "\n",
    "- Detect the plate on the car \n",
    "    - use contor in OpenCV to find rectangular objects\n",
    "- Crop the image to contain only the license plate, using OpenCV\n",
    "- Use Optical Character Recognition to detect the numbers on the plate "
   ]
  },
  {
   "cell_type": "code",
   "execution_count": 47,
   "metadata": {},
   "outputs": [],
   "source": [
    "import cv2\n",
    "import imutils\n",
    "import numpy as np\n",
    "import pytesseract"
   ]
  },
  {
   "cell_type": "markdown",
   "metadata": {},
   "source": [
    "### Detect the plate on the car"
   ]
  },
  {
   "cell_type": "markdown",
   "metadata": {},
   "source": [
    "#### Resize the image and greyscale it\n",
    "\n",
    "Creates consistency in the images, and removes details we don't need"
   ]
  },
  {
   "cell_type": "code",
   "execution_count": 57,
   "metadata": {},
   "outputs": [],
   "source": [
    "#I don't want to add tesseract to my path, so telling it the command to the executable here\n",
    "\n",
    "pytesseract.pytesseract.tesseract_cmd = r'C:\\Program Files\\Tesseract-OCR\\tesseract.exe'"
   ]
  },
  {
   "cell_type": "code",
   "execution_count": 41,
   "metadata": {},
   "outputs": [],
   "source": [
    "#we are reading in the img in color, may change this later to greyscale for simpler code\n",
    "#then resizing it to have consistent size for images\n",
    "\n",
    "pic = cv2.imread(r'C:\\Users\\Jrive\\Desktop\\car.jpeg', cv2.IMREAD_COLOR)\n",
    "pic = cv2.resize(pic, (600, 400))\n",
    "\n",
    "#converting it to greyscale\n",
    "grey = cv2.cvtColor(pic, cv2.COLOR_BGR2GRAY)"
   ]
  },
  {
   "cell_type": "markdown",
   "metadata": {},
   "source": [
    "#### Reduce noise and detect edges\n",
    "\n",
    "A link to more on the parameters for bilateralFilter:\n",
    "https://docs.opencv.org/master/d4/d86/group__imgproc__filter.html#ga9d7064d478c95d60003cf839430737ed\n",
    "\n",
    "It is used to reduce noise, and is an improvement on Gaussian filters.\n",
    "Increasing the last two values will increase blurring.\n",
    "\n",
    "Canny is an algorithm used for edge detection. The two values that are passed in mean that only edge with an intensity gradient between those numberes will be displayed. "
   ]
  },
  {
   "cell_type": "code",
   "execution_count": 49,
   "metadata": {},
   "outputs": [],
   "source": [
    "grey = cv2.bilateralFilter(grey, 13, 15, 15)\n",
    "edges = cv2.Canny(grey, 30, 200)"
   ]
  },
  {
   "cell_type": "markdown",
   "metadata": {},
   "source": [
    "#### Lets take a look at what we have done so far"
   ]
  },
  {
   "cell_type": "code",
   "execution_count": 50,
   "metadata": {},
   "outputs": [],
   "source": [
    "#taking a look at the reduced noise pic and the detected edges\n",
    "\n",
    "# cv2.imshow(\"resized original\", pic)\n",
    "# cv2.imshow(\"reduced noise\", grey)\n",
    "# cv2.imshow(\"detected edges\", edges)\n",
    "\n",
    "# cv2.waitKey(0)\n",
    "# cv2.destroyAllWindows()"
   ]
  },
  {
   "cell_type": "markdown",
   "metadata": {},
   "source": [
    "#### Finding the contors in the image\n",
    "\n",
    "This is going to look for the rectangle shape of a license plate"
   ]
  },
  {
   "cell_type": "code",
   "execution_count": 51,
   "metadata": {},
   "outputs": [],
   "source": [
    "# we are passing in the image, the contour retrival mode, and contour approximation\n",
    "#method\n",
    "#RETR_TREE, our retrival mode, keeps all contours and constructs a heirarchy of contours\n",
    "#CHAIN_APPROX_SIMPLE compresses horizontal, vertical, and diagonal segments and leaves \n",
    "#their endpoints, so a rectangle would be encoded with 4 points\n",
    "contours = cv2.findContours(edges.copy(), cv2.RETR_TREE, cv2.CHAIN_APPROX_SIMPLE)\n",
    "#this is parsing the contours\n",
    "contours = imutils.grab_contours(contours)\n",
    "#sorts the list of contours by the largest area of contours\n",
    "contours = sorted(contours, key = cv2.contourArea, reverse=True)[:10]\n",
    "screenCnt = None"
   ]
  },
  {
   "cell_type": "code",
   "execution_count": 52,
   "metadata": {},
   "outputs": [
    {
     "name": "stdout",
     "output_type": "stream",
     "text": [
      "8\n",
      "9\n",
      "7\n",
      "7\n",
      "4\n"
     ]
    }
   ],
   "source": [
    "#now we are going to sort through the ten largest contours\n",
    "#and identify all rectangle contours with four sides and a closed figure\n",
    "\n",
    "for c in contours:\n",
    "    #finds the perimeter of the contour if it is a closed figure\n",
    "    p = cv2.arcLength(c, True)\n",
    "    #this approximates a polygon (our rectangle) with less vertices, keeping it within\n",
    "    #a specified precision\n",
    "    # that is our second parameter, again the last is to ensure it is a closed figure\n",
    "    approx = cv2.approxPolyDP(c, 0.018 * p, True)\n",
    "    #if our approx of the contour has four points, we stop and assume\n",
    "    # that we have found our screen\n",
    "    print(len(approx))\n",
    "    if len(approx) == 4:\n",
    "        screenCnt = approx\n",
    "        break\n",
    "        \n",
    "#I need to add in code to handle errors from the above loop, will after getting skeleton\n",
    "#will add comments for understanding soon \n",
    "\n",
    "if screenCnt is None:\n",
    "    detected = 0\n",
    "    print (\"No contour detected\")\n",
    "else:\n",
    "     detected = 1\n",
    "\n",
    "if detected == 1:\n",
    "    cv2.drawContours(pic, [screenCnt], -1, (0, 0, 255), 3)"
   ]
  },
  {
   "cell_type": "markdown",
   "metadata": {},
   "source": [
    "#### Masking everything in the image that isn't our rectangle"
   ]
  },
  {
   "cell_type": "code",
   "execution_count": 53,
   "metadata": {},
   "outputs": [],
   "source": [
    "#creating an empty array in the shape of our image, in the uint8 datatype specifically\n",
    "mask = np.zeros(grey.shape, np.uint8)\n",
    "#drawing our contour onto the mask, using the vector identified in the for loop above\n",
    "#in 255 color, the -1 meaning contour interiors are also drawn\n",
    "new_image = cv2.drawContours(mask, [screenCnt], 0, 255, -1)\n",
    "#combines the picture with our mask\n",
    "new_image = cv2.bitwise_and(pic, pic, mask=mask)"
   ]
  },
  {
   "cell_type": "code",
   "execution_count": 19,
   "metadata": {},
   "outputs": [],
   "source": [
    "cv2.imshow(\"Masked image\", new_image)\n",
    "\n",
    "cv2.waitKey(0)\n",
    "cv2.destroyAllWindows()"
   ]
  },
  {
   "cell_type": "markdown",
   "metadata": {},
   "source": [
    "#### Crop so that only license plate is in image"
   ]
  },
  {
   "cell_type": "code",
   "execution_count": 54,
   "metadata": {},
   "outputs": [],
   "source": [
    "#get all points that are colored in the mask\n",
    "(x, y) = np.where(mask == 255)\n",
    "#get the minimum and maximum of these values so we can crop\n",
    "(topx, topy) = (np.min(x), np.min(y))\n",
    "(bottomx, bottomy) = (np.max(x), np.max(y))\n",
    "#use those measurements to get the license plate from the rescaled, greyscale image\n",
    "cropped = grey[topx:bottomx+1, topy:bottomy+1]"
   ]
  },
  {
   "cell_type": "code",
   "execution_count": 55,
   "metadata": {},
   "outputs": [],
   "source": [
    "cv2.imshow(\"Cropped image\", cropped)\n",
    "\n",
    "cv2.waitKey(0)\n",
    "cv2.destroyAllWindows()"
   ]
  },
  {
   "cell_type": "markdown",
   "metadata": {},
   "source": [
    "#### Now we use pytesseract to read the plate"
   ]
  },
  {
   "cell_type": "code",
   "execution_count": 58,
   "metadata": {},
   "outputs": [
    {
     "name": "stdout",
     "output_type": "stream",
     "text": [
      "CZ20FSE\n",
      "\f",
      "\n"
     ]
    }
   ],
   "source": [
    "text = pytesseract.image_to_string(cropped, config = '--psm 11')\n",
    "print(text)"
   ]
  },
  {
   "cell_type": "code",
   "execution_count": null,
   "metadata": {},
   "outputs": [],
   "source": []
  }
 ],
 "metadata": {
  "kernelspec": {
   "display_name": "Python 3",
   "language": "python",
   "name": "python3"
  },
  "language_info": {
   "codemirror_mode": {
    "name": "ipython",
    "version": 3
   },
   "file_extension": ".py",
   "mimetype": "text/x-python",
   "name": "python",
   "nbconvert_exporter": "python",
   "pygments_lexer": "ipython3",
   "version": "3.7.6"
  }
 },
 "nbformat": 4,
 "nbformat_minor": 4
}
